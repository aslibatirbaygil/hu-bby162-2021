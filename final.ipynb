{
  "nbformat": 4,
  "nbformat_minor": 0,
  "metadata": {
    "colab": {
      "name": "final.ipynb",
      "provenance": [],
      "authorship_tag": "ABX9TyN8d7DeUEkZpoCgd9hRieIE",
      "include_colab_link": true
    },
    "kernelspec": {
      "name": "python3",
      "display_name": "Python 3"
    },
    "language_info": {
      "name": "python"
    }
  },
  "cells": [
    {
      "cell_type": "markdown",
      "metadata": {
        "id": "view-in-github",
        "colab_type": "text"
      },
      "source": [
        "<a href=\"https://colab.research.google.com/github/aslibatirbaygil/hu-bby162-2021/blob/main/final.ipynb\" target=\"_parent\"><img src=\"https://colab.research.google.com/assets/colab-badge.svg\" alt=\"Open In Colab\"/></a>"
      ]
    },
    {
      "cell_type": "code",
      "metadata": {
        "colab": {
          "base_uri": "https://localhost:8080/"
        },
        "id": "qtYAMKamNqNZ",
        "outputId": "b2540770-f8d4-4a41-8cc0-c4019db166b2"
      },
      "source": [
        "dosya = \"/content/drive/MyDrive/final.txt\"\n",
        "print(\"Kütüphane Otomasyon Sistemi'ne Hoşgeldiniz!\")\n",
        "\n",
        "def eserListele():\n",
        "\n",
        "  acilanDosya = open(dosya, \"r\")\n",
        "  for line in acilanDosya.readlines():\n",
        "    print(line)\n",
        "\n",
        "  acilanDosya.close()\n",
        "\n",
        "\n",
        "def eserKaydet():\n",
        "\n",
        "  kitapAdi = input(\" Lütfen eser adı giriniz: \")\n",
        "  yazari = input(\" Yazar adı giriniz: \")\n",
        "  yayın = input(\" Yayınevi giriniz: \")\n",
        "  basımTarihi = input(\" Basım tarihi giriniz: \")\n",
        "  ISBN = input( \"ISBN numarası giriniz: \")\n",
        "\n",
        "  dosya = \"/content/drive/MyDrive/final.txt\"\n",
        "\n",
        "  f = open(dosya, 'a')\n",
        "  f.write(kitapAdi+ \",\" +yazari+ \".\" +yayın+ \",\" +basımTarihi+ \",\" +ISBN+ \"\\n\")\n",
        "  print(\"İşlem Tamamlandı.\")\n",
        "  f.close()\n",
        "\n",
        "def menu():\n",
        "\n",
        " while True:\n",
        "    print(\"1) Mevcut Kataloğu Listele\")\n",
        "    print(\"2) Eser Ekle\")\n",
        "    print(\"3) Çıkış yap\")\n",
        "    islem = input(\" Yapmak istediğiniz işlemi seçiniz (1/3): \")\n",
        "    if islem == \"1\":\n",
        "      eserListele()\n",
        "    elif islem == \"2\":\n",
        "      eserKaydet()\n",
        "    elif islem == \"3\":\n",
        "      print(\"Çıkış yaptınız\")\n",
        "      break\n",
        "menu()"
      ],
      "execution_count": 6,
      "outputs": [
        {
          "output_type": "stream",
          "text": [
            "Kütüphane Otomasyon Sistemi'ne Hoşgeldiniz!\n",
            "1) Mevcut Kataloğu Listele\n",
            "2) Eser Ekle\n",
            "3) Çıkış yap\n",
            " Yapmak istediğiniz işlemi seçiniz (1/3): 1\n",
            "Beyaz Zambaklar Ülkesinde, Grigory Petrov, Koridor Yayıncılık, 2007, 9789944983990\n",
            "\n",
            "Bilinmeyen Bir Kadının Mektubu, Stefan Zweig, Türkiye İş Bankası Kültür Yayınları, 2019, 9786053606604\n",
            "\n",
            "Simyacı, Paulo Coelho, Can Yayınları, 2016, 9789750726439\n",
            "\n",
            "Küçük Prens, Antoine De Saint Exupery, Can Çocuk Yayınları, 2015, \n",
            "\n",
            "Fareler ve İnsanlar, John Steinbeck, Sel Yayıncılık, 2012, 9789755705859\n",
            "\n",
            "Bülbülü Öldürmek, Harper Lee, Sel Yayıncılık, 2019, 9789755706849\n",
            "\n",
            "Nar Ağacı, Nazan Bekiroğlu, Timas Yayınları, 2016, 9786050807073\n",
            "\n",
            "Satranç, Stefan Zweig, Türkiye İş Bankası Kültür Yayınları, 2012, 9786053606116 \n",
            "\n",
            "Yüzyıllık Yalnızlık, Gabriel Garcia Marquez, Can Yayınları, 2016, 9789750719363\n",
            "\n",
            "Kuyucaklı Yusuf, Sabahattin Ali, Yapı Kredi Yayınları, 2015, 9789750800016\n",
            "\n",
            "Semerkant, Amin Maalouf, Yapı Kredi Yayınları, 2016, 9789750810039\n",
            "\n",
            "Konstantiniyye Oteli,Zülfü Livaneli.Doğan Kitap,2016,\t9786050926316\n",
            "\n",
            "1) Mevcut Kataloğu Listele\n",
            "2) Eser Ekle\n",
            "3) Çıkış yap\n",
            " Yapmak istediğiniz işlemi seçiniz (1/3): 2\n",
            " Lütfen eser adı giriniz: Konstantiniyye Oteli\n",
            " Yazar adı giriniz: Zülfü Livaneli\n",
            " Yayınevi giriniz: Doğan Kitap\n",
            " Basım tarihi giriniz: 2016\n",
            "ISBN numarası giriniz: 9786050926316\n",
            "İşlem Tamamlandı.\n",
            "1) Mevcut Kataloğu Listele\n",
            "2) Eser Ekle\n",
            "3) Çıkış yap\n",
            " Yapmak istediğiniz işlemi seçiniz (1/3): 3\n",
            "Çıkış yaptınız\n"
          ],
          "name": "stdout"
        }
      ]
    }
  ]
}