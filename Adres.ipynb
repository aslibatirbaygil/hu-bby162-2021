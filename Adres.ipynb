{
  "nbformat": 4,
  "nbformat_minor": 0,
  "metadata": {
    "colab": {
      "name": "Adres.ipynb",
      "provenance": [],
      "authorship_tag": "ABX9TyOzP+X/bjKopAeEbaOCcPWi",
      "include_colab_link": true
    },
    "kernelspec": {
      "name": "python3",
      "display_name": "Python 3"
    },
    "language_info": {
      "name": "python"
    }
  },
  "cells": [
    {
      "cell_type": "markdown",
      "metadata": {
        "id": "view-in-github",
        "colab_type": "text"
      },
      "source": [
        "<a href=\"https://colab.research.google.com/github/aslibatirbaygil/hu-bby162-2021/blob/main/Adres.ipynb\" target=\"_parent\"><img src=\"https://colab.research.google.com/assets/colab-badge.svg\" alt=\"Open In Colab\"/></a>"
      ]
    },
    {
      "cell_type": "code",
      "metadata": {
        "colab": {
          "base_uri": "https://localhost:8080/"
        },
        "id": "u_OjJWaJ4qjc",
        "outputId": "cd0c876e-7cd8-4023-c904-f00accb622bc"
      },
      "source": [
        "#Google Drive Bağlantısı\n",
        "from google.colab import drive\n",
        "drive.mount('/content/drive')\n",
        "\n",
        "dosya = \"/content/drive/MyDrive/Colab Notebooks (1)/metin.txt\"\n",
        "\n",
        "f = open(dosya, \"r\") \n",
        "\n",
        "for line in f.readlines():\n",
        "    print(line)\n",
        "\n",
        "f.close()"
      ],
      "execution_count": 17,
      "outputs": [
        {
          "output_type": "stream",
          "text": [
            "Drive already mounted at /content/drive; to attempt to forcibly remount, call drive.mount(\"/content/drive\", force_remount=True).\n",
            "Ad: Aslı\n",
            "\n",
            "\n",
            "\n",
            "Soyad : Batırbaygil\n",
            "\n",
            "\n",
            "\n",
            "E-posta adresi: aslbatirbaygil@gmail.com \n"
          ],
          "name": "stdout"
        }
      ]
    },
    {
      "cell_type": "code",
      "metadata": {
        "colab": {
          "base_uri": "https://localhost:8080/"
        },
        "id": "bKsXaWElE0aF",
        "outputId": "c83f0a7a-dac4-4a8d-fb21-9b7c72a23c12"
      },
      "source": [
        "from google.colab import drive\n",
        "drive.mount('/content/drive')\n",
        " \n",
        "dosya = \"/content/drive/MyDrive/Colab Notebooks (1)/metin.txt\"\n",
        "\n",
        "f = open(dosya, 'w') \n",
        "f.write(\"Aslı Batırbaygil\\n aslbatirbaygil@gmail.com\") \n",
        "f.close()"
      ],
      "execution_count": 15,
      "outputs": [
        {
          "output_type": "stream",
          "text": [
            "Drive already mounted at /content/drive; to attempt to forcibly remount, call drive.mount(\"/content/drive\", force_remount=True).\n"
          ],
          "name": "stdout"
        }
      ]
    }
  ]
}